{
 "cells": [
  {
   "cell_type": "markdown",
   "metadata": {},
   "source": [
    "# Cluster Analysis in R\n",
    "\n",
    "> build a strong intuition for how they work and how to interpret hierarchical clustering and k-means clustering results\n",
    "\n",
    "- author: Victor Omondi\n",
    "- toc: true\n",
    "- comments: true\n",
    "- categories: [machine-learning, cluster-analysis, r]\n",
    "- image: images/cl-r-shield.png"
   ]
  },
  {
   "cell_type": "markdown",
   "metadata": {},
   "source": [
    "# Overview\n",
    "\n",
    "Cluster analysis is a powerful toolkit in the data science workbench. It is used to find groups of observations (clusters) that share similar characteristics. These similarities can inform all kinds of business decisions; for example, in marketing, it is used to identify distinct groups of customers for which advertisements can be tailored. We will explore two commonly used clustering methods - hierarchical clustering and k-means clustering. We'll build a strong intuition for how they work and how to interpret their results. We'll develop this intuition by exploring three different datasets: soccer player positions, wholesale customer spending data, and longitudinal occupational wage data."
   ]
  },
  {
   "cell_type": "markdown",
   "metadata": {},
   "source": [
    "# Libraries"
   ]
  },
  {
   "cell_type": "code",
   "execution_count": 49,
   "metadata": {},
   "outputs": [
    {
     "name": "stderr",
     "output_type": "stream",
     "text": [
      "Warning message:\n",
      "\"package 'purrr' was built under R version 3.6.3\""
     ]
    }
   ],
   "source": [
    "library(dplyr)\n",
    "library(ggplot2)\n",
    "library(dummies)\n",
    "library(readr)\n",
    "library(dendextend)\n",
    "library(purrr)"
   ]
  },
  {
   "cell_type": "markdown",
   "metadata": {},
   "source": [
    "# Calculating distance between observations\n",
    "\n",
    "Cluster analysis seeks to find groups of observations that are similar to one another, but the identified groups are different from each other. This similarity/difference is captured by the metric called distance. We will calculate the distance between observations for both continuous and categorical features. We will also develop an intuition for how the scales of features can affect distance."
   ]
  },
  {
   "cell_type": "markdown",
   "metadata": {},
   "source": [
    "## What is cluster analysis?\n",
    "\n",
    "A form of exploratory data analysis (EDA) where observations are divided into meaningful groups that share common characteristics(features).\n"
   ]
  },
  {
   "cell_type": "markdown",
   "metadata": {},
   "source": [
    "### When to cluster?\n",
    "\n",
    "- Identifying distinct groups of stocks that follow similar trading patterns.\n",
    "- Using consumer behavior data to identify distinct segments within a market."
   ]
  },
  {
   "cell_type": "markdown",
   "metadata": {},
   "source": [
    "## Distance between two observations\n",
    "\n",
    "### Distance vs Similarity\n",
    "$distance = 1 - similarity$\n",
    "\n",
    "### dist() function"
   ]
  },
  {
   "cell_type": "code",
   "execution_count": 5,
   "metadata": {},
   "outputs": [
    {
     "data": {
      "text/plain": [
       "   1\n",
       "2 15"
      ]
     },
     "metadata": {},
     "output_type": "display_data"
    }
   ],
   "source": [
    "two_players = data.frame(X=c(0, 9), Y=c(0,12))\n",
    "two_players %>%\n",
    "    dist(method=\"euclidean\")"
   ]
  },
  {
   "cell_type": "code",
   "execution_count": 6,
   "metadata": {},
   "outputs": [
    {
     "data": {
      "text/plain": [
       "         1        2\n",
       "2 15.00000         \n",
       "3 19.10497 13.03840"
      ]
     },
     "metadata": {},
     "output_type": "display_data"
    }
   ],
   "source": [
    "three_players = data.frame(X=c(0, 9, -2), Y=c(0,12, 19))\n",
    "three_players %>%\n",
    "    dist()"
   ]
  },
  {
   "cell_type": "code",
   "execution_count": 8,
   "metadata": {},
   "outputs": [
    {
     "data": {
      "text/html": [
       "<table>\n",
       "<thead><tr><th scope=col>x</th><th scope=col>y</th></tr></thead>\n",
       "<tbody>\n",
       "\t<tr><td> -1</td><td> 1 </td></tr>\n",
       "\t<tr><td> -2</td><td>-3 </td></tr>\n",
       "\t<tr><td>  8</td><td> 6 </td></tr>\n",
       "\t<tr><td>  7</td><td>-8 </td></tr>\n",
       "\t<tr><td>-12</td><td> 8 </td></tr>\n",
       "\t<tr><td>-15</td><td> 0 </td></tr>\n",
       "</tbody>\n",
       "</table>\n"
      ],
      "text/latex": [
       "\\begin{tabular}{r|ll}\n",
       " x & y\\\\\n",
       "\\hline\n",
       "\t  -1 &  1 \\\\\n",
       "\t  -2 & -3 \\\\\n",
       "\t   8 &  6 \\\\\n",
       "\t   7 & -8 \\\\\n",
       "\t -12 &  8 \\\\\n",
       "\t -15 &  0 \\\\\n",
       "\\end{tabular}\n"
      ],
      "text/markdown": [
       "\n",
       "| x | y |\n",
       "|---|---|\n",
       "|  -1 |  1  |\n",
       "|  -2 | -3  |\n",
       "|   8 |  6  |\n",
       "|   7 | -8  |\n",
       "| -12 |  8  |\n",
       "| -15 |  0  |\n",
       "\n"
      ],
      "text/plain": [
       "  x   y \n",
       "1  -1  1\n",
       "2  -2 -3\n",
       "3   8  6\n",
       "4   7 -8\n",
       "5 -12  8\n",
       "6 -15  0"
      ]
     },
     "metadata": {},
     "output_type": "display_data"
    }
   ],
   "source": [
    "players <- readRDS(gzcon(url(\"https://assets.datacamp.com/production/repositories/1219/datasets/94af7037c5834527cc8799a9723ebf3b5af73015/lineup.rds\")))\n",
    "head(players)"
   ]
  },
  {
   "cell_type": "code",
   "execution_count": 9,
   "metadata": {},
   "outputs": [
    {
     "data": {
      "image/png": "[encoded data removed]",
      "text/plain": [
       "plot without title"
      ]
     },
     "metadata": {},
     "output_type": "display_data"
    }
   ],
   "source": [
    "# Plot the positions of the players\n",
    "ggplot(two_players, aes(x = X, y = Y)) + \n",
    "  geom_point() +\n",
    "  # Assuming a 40x60 field\n",
    "  lims(x = c(-30,30), y = c(-20, 20))\n",
    "\n"
   ]
  },
  {
   "cell_type": "code",
   "execution_count": 10,
   "metadata": {},
   "outputs": [
    {
     "data": {
      "text/html": [
       "15"
      ],
      "text/latex": [
       "15"
      ],
      "text/markdown": [
       "15"
      ],
      "text/plain": [
       "[1] 15"
      ]
     },
     "metadata": {},
     "output_type": "display_data"
    }
   ],
   "source": [
    "# Split the players data frame into two observations\n",
    "player1 <- two_players[1, ]\n",
    "player2 <- two_players[2, ]\n",
    "\n",
    "# Calculate and print their distance using the Euclidean Distance formula\n",
    "player_distance <- sqrt( (player1$X - player2$X)^2 + (player1$Y - player2$Y)^2 )\n",
    "player_distance"
   ]
  },
  {
   "cell_type": "markdown",
   "metadata": {},
   "source": [
    "The dist() function makes life easier when working with many dimensions and observations."
   ]
  },
  {
   "cell_type": "code",
   "execution_count": 11,
   "metadata": {},
   "outputs": [
    {
     "data": {
      "text/plain": [
       "         1        2\n",
       "2 15.00000         \n",
       "3 19.10497 13.03840"
      ]
     },
     "metadata": {},
     "output_type": "display_data"
    }
   ],
   "source": [
    "dist(three_players)"
   ]
  },
  {
   "cell_type": "code",
   "execution_count": 12,
   "metadata": {},
   "outputs": [
    {
     "data": {
      "text/html": [
       "<table>\n",
       "<thead><tr><th scope=col>X</th><th scope=col>Y</th></tr></thead>\n",
       "<tbody>\n",
       "\t<tr><td> 0</td><td> 0</td></tr>\n",
       "\t<tr><td> 9</td><td>12</td></tr>\n",
       "\t<tr><td>-2</td><td>19</td></tr>\n",
       "</tbody>\n",
       "</table>\n"
      ],
      "text/latex": [
       "\\begin{tabular}{r|ll}\n",
       " X & Y\\\\\n",
       "\\hline\n",
       "\t  0 &  0\\\\\n",
       "\t  9 & 12\\\\\n",
       "\t -2 & 19\\\\\n",
       "\\end{tabular}\n"
      ],
      "text/markdown": [
       "\n",
       "| X | Y |\n",
       "|---|---|\n",
       "|  0 |  0 |\n",
       "|  9 | 12 |\n",
       "| -2 | 19 |\n",
       "\n"
      ],
      "text/plain": [
       "  X  Y \n",
       "1  0  0\n",
       "2  9 12\n",
       "3 -2 19"
      ]
     },
     "metadata": {},
     "output_type": "display_data"
    }
   ],
   "source": [
    "three_players"
   ]
  },
  {
   "cell_type": "markdown",
   "metadata": {},
   "source": [
    "## The importance of scale\n",
    "\n",
    " when a variable is on a larger scale than other variables in data it may disproportionately influence the resulting distance calculated between the observations. \n",
    " \n",
    " `scale()` function by default centers & scales column features."
   ]
  },
  {
   "cell_type": "markdown",
   "metadata": {},
   "source": [
    "## Measuring distance for categorical data\n",
    "\n",
    "### Dummication in R\n",
    "`dummy.data.frame()`"
   ]
  },
  {
   "cell_type": "code",
   "execution_count": 13,
   "metadata": {},
   "outputs": [
    {
     "data": {
      "text/html": [
       "<table>\n",
       "<thead><tr><th scope=col>job_satisfaction</th><th scope=col>is_happy</th></tr></thead>\n",
       "<tbody>\n",
       "\t<tr><td>Low</td><td>No </td></tr>\n",
       "\t<tr><td>Low</td><td>No </td></tr>\n",
       "\t<tr><td>Hi </td><td>Yes</td></tr>\n",
       "\t<tr><td>Low</td><td>No </td></tr>\n",
       "\t<tr><td>Mid</td><td>No </td></tr>\n",
       "</tbody>\n",
       "</table>\n"
      ],
      "text/latex": [
       "\\begin{tabular}{r|ll}\n",
       " job\\_satisfaction & is\\_happy\\\\\n",
       "\\hline\n",
       "\t Low & No \\\\\n",
       "\t Low & No \\\\\n",
       "\t Hi  & Yes\\\\\n",
       "\t Low & No \\\\\n",
       "\t Mid & No \\\\\n",
       "\\end{tabular}\n"
      ],
      "text/markdown": [
       "\n",
       "| job_satisfaction | is_happy |\n",
       "|---|---|\n",
       "| Low | No  |\n",
       "| Low | No  |\n",
       "| Hi  | Yes |\n",
       "| Low | No  |\n",
       "| Mid | No  |\n",
       "\n"
      ],
      "text/plain": [
       "  job_satisfaction is_happy\n",
       "1 Low              No      \n",
       "2 Low              No      \n",
       "3 Hi               Yes     \n",
       "4 Low              No      \n",
       "5 Mid              No      "
      ]
     },
     "metadata": {},
     "output_type": "display_data"
    }
   ],
   "source": [
    "job_survey = read.csv(\"datasets/job_survey.csv\")\n",
    "job_survey"
   ]
  },
  {
   "cell_type": "code",
   "execution_count": 14,
   "metadata": {},
   "outputs": [
    {
     "name": "stderr",
     "output_type": "stream",
     "text": [
      "Warning message in model.matrix.default(~x - 1, model.frame(~x - 1), contrasts = FALSE):\n",
      "\"non-list contrasts argument ignored\"Warning message in model.matrix.default(~x - 1, model.frame(~x - 1), contrasts = FALSE):\n",
      "\"non-list contrasts argument ignored\""
     ]
    },
    {
     "data": {
      "text/plain": [
       "          1         2         3         4\n",
       "2 0.0000000                              \n",
       "3 1.0000000 1.0000000                    \n",
       "4 0.0000000 0.0000000 1.0000000          \n",
       "5 0.6666667 0.6666667 1.0000000 0.6666667"
      ]
     },
     "metadata": {},
     "output_type": "display_data"
    }
   ],
   "source": [
    "# Dummify the Survey Data\n",
    "dummy_survey <- dummy.data.frame(job_survey)\n",
    "\n",
    "# Calculate the Distance\n",
    "dist_survey <- dist(dummy_survey, method=\"binary\")\n",
    "# Print the Distance Matrix\n",
    "dist_survey"
   ]
  },
  {
   "cell_type": "markdown",
   "metadata": {},
   "source": [
    "this distance metric successfully captured that observations 1 and 2 are identical (distance of 0)"
   ]
  },
  {
   "cell_type": "markdown",
   "metadata": {},
   "source": [
    "# Hierarchical clustering\n",
    "\n",
    "How do you find groups of similar observations (clusters) in data using the calculated distances? We will explore the fundamental principles of hierarchical clustering - the linkage criteria and the dendrogram plot - and how both are used to build clusters. We will also explore data from a wholesale distributor in order to perform market segmentation of clients using their spending habits."
   ]
  },
  {
   "cell_type": "markdown",
   "metadata": {},
   "source": [
    "## Comparing more than two observations\n",
    "\n",
    "### Hierarchical clustering\n",
    "- **Complete Linkage**: maximum distance between two sets\n",
    "- **Single Linkage**: minimum distance between two sets\n",
    "- **Average Linkage**: average distance between two sets\n"
   ]
  },
  {
   "cell_type": "markdown",
   "metadata": {},
   "source": [
    "## Capturing K clusters\n",
    "\n",
    "### Hierarchical clustering in R\n",
    "\n",
    "- `hclust()` function to calculate the iterative linkage steps\n",
    "- `cutree()` function to extract the cluster assignments for the desired number (k) of clusters.\n",
    "\n",
    "positions of 12 players at the start of a 6v6 soccer match. "
   ]
  },
  {
   "cell_type": "code",
   "execution_count": 15,
   "metadata": {},
   "outputs": [
    {
     "data": {
      "text/html": [
       "<table>\n",
       "<thead><tr><th scope=col>x</th><th scope=col>y</th></tr></thead>\n",
       "<tbody>\n",
       "\t<tr><td> -1</td><td> 1 </td></tr>\n",
       "\t<tr><td> -2</td><td>-3 </td></tr>\n",
       "\t<tr><td>  8</td><td> 6 </td></tr>\n",
       "\t<tr><td>  7</td><td>-8 </td></tr>\n",
       "\t<tr><td>-12</td><td> 8 </td></tr>\n",
       "\t<tr><td>-15</td><td> 0 </td></tr>\n",
       "</tbody>\n",
       "</table>\n"
      ],
      "text/latex": [
       "\\begin{tabular}{r|ll}\n",
       " x & y\\\\\n",
       "\\hline\n",
       "\t  -1 &  1 \\\\\n",
       "\t  -2 & -3 \\\\\n",
       "\t   8 &  6 \\\\\n",
       "\t   7 & -8 \\\\\n",
       "\t -12 &  8 \\\\\n",
       "\t -15 &  0 \\\\\n",
       "\\end{tabular}\n"
      ],
      "text/markdown": [
       "\n",
       "| x | y |\n",
       "|---|---|\n",
       "|  -1 |  1  |\n",
       "|  -2 | -3  |\n",
       "|   8 |  6  |\n",
       "|   7 | -8  |\n",
       "| -12 |  8  |\n",
       "| -15 |  0  |\n",
       "\n"
      ],
      "text/plain": [
       "  x   y \n",
       "1  -1  1\n",
       "2  -2 -3\n",
       "3   8  6\n",
       "4   7 -8\n",
       "5 -12  8\n",
       "6 -15  0"
      ]
     },
     "metadata": {},
     "output_type": "display_data"
    }
   ],
   "source": [
    "head(players)"
   ]
  },
  {
   "cell_type": "code",
   "execution_count": 16,
   "metadata": {},
   "outputs": [],
   "source": [
    "dist_players = dist(players, method = \"euclidean\")\n",
    "hc_players = hclust(dist_players, method = \"complete\")"
   ]
  },
  {
   "cell_type": "markdown",
   "metadata": {},
   "source": [
    "### Extracting K clusters"
   ]
  },
  {
   "cell_type": "code",
   "execution_count": 17,
   "metadata": {},
   "outputs": [
    {
     "data": {
      "text/html": [
       "<ol class=list-inline>\n",
       "\t<li>1</li>\n",
       "\t<li>1</li>\n",
       "\t<li>2</li>\n",
       "\t<li>2</li>\n",
       "\t<li>1</li>\n",
       "\t<li>1</li>\n",
       "\t<li>1</li>\n",
       "\t<li>2</li>\n",
       "\t<li>2</li>\n",
       "\t<li>2</li>\n",
       "\t<li>1</li>\n",
       "\t<li>2</li>\n",
       "</ol>\n"
      ],
      "text/latex": [
       "\\begin{enumerate*}\n",
       "\\item 1\n",
       "\\item 1\n",
       "\\item 2\n",
       "\\item 2\n",
       "\\item 1\n",
       "\\item 1\n",
       "\\item 1\n",
       "\\item 2\n",
       "\\item 2\n",
       "\\item 2\n",
       "\\item 1\n",
       "\\item 2\n",
       "\\end{enumerate*}\n"
      ],
      "text/markdown": [
       "1. 1\n",
       "2. 1\n",
       "3. 2\n",
       "4. 2\n",
       "5. 1\n",
       "6. 1\n",
       "7. 1\n",
       "8. 2\n",
       "9. 2\n",
       "10. 2\n",
       "11. 1\n",
       "12. 2\n",
       "\n",
       "\n"
      ],
      "text/plain": [
       " [1] 1 1 2 2 1 1 1 2 2 2 1 2"
      ]
     },
     "metadata": {},
     "output_type": "display_data"
    }
   ],
   "source": [
    "(cluster_assignments <- cutree(hc_players, k=2))"
   ]
  },
  {
   "cell_type": "code",
   "execution_count": 18,
   "metadata": {},
   "outputs": [
    {
     "data": {
      "text/html": [
       "<table>\n",
       "<thead><tr><th scope=col>x</th><th scope=col>y</th><th scope=col>cluster</th></tr></thead>\n",
       "<tbody>\n",
       "\t<tr><td> -1</td><td>  1</td><td>1  </td></tr>\n",
       "\t<tr><td> -2</td><td> -3</td><td>1  </td></tr>\n",
       "\t<tr><td>  8</td><td>  6</td><td>2  </td></tr>\n",
       "\t<tr><td>  7</td><td> -8</td><td>2  </td></tr>\n",
       "\t<tr><td>-12</td><td>  8</td><td>1  </td></tr>\n",
       "\t<tr><td>-15</td><td>  0</td><td>1  </td></tr>\n",
       "\t<tr><td>-13</td><td>-10</td><td>1  </td></tr>\n",
       "\t<tr><td> 15</td><td> 16</td><td>2  </td></tr>\n",
       "\t<tr><td> 21</td><td>  2</td><td>2  </td></tr>\n",
       "\t<tr><td> 12</td><td>-15</td><td>2  </td></tr>\n",
       "</tbody>\n",
       "</table>\n"
      ],
      "text/latex": [
       "\\begin{tabular}{r|lll}\n",
       " x & y & cluster\\\\\n",
       "\\hline\n",
       "\t  -1 &   1 & 1  \\\\\n",
       "\t  -2 &  -3 & 1  \\\\\n",
       "\t   8 &   6 & 2  \\\\\n",
       "\t   7 &  -8 & 2  \\\\\n",
       "\t -12 &   8 & 1  \\\\\n",
       "\t -15 &   0 & 1  \\\\\n",
       "\t -13 & -10 & 1  \\\\\n",
       "\t  15 &  16 & 2  \\\\\n",
       "\t  21 &   2 & 2  \\\\\n",
       "\t  12 & -15 & 2  \\\\\n",
       "\\end{tabular}\n"
      ],
      "text/markdown": [
       "\n",
       "| x | y | cluster |\n",
       "|---|---|---|\n",
       "|  -1 |   1 | 1   |\n",
       "|  -2 |  -3 | 1   |\n",
       "|   8 |   6 | 2   |\n",
       "|   7 |  -8 | 2   |\n",
       "| -12 |   8 | 1   |\n",
       "| -15 |   0 | 1   |\n",
       "| -13 | -10 | 1   |\n",
       "|  15 |  16 | 2   |\n",
       "|  21 |   2 | 2   |\n",
       "|  12 | -15 | 2   |\n",
       "\n"
      ],
      "text/plain": [
       "   x   y   cluster\n",
       "1   -1   1 1      \n",
       "2   -2  -3 1      \n",
       "3    8   6 2      \n",
       "4    7  -8 2      \n",
       "5  -12   8 1      \n",
       "6  -15   0 1      \n",
       "7  -13 -10 1      \n",
       "8   15  16 2      \n",
       "9   21   2 2      \n",
       "10  12 -15 2      "
      ]
     },
     "metadata": {},
     "output_type": "display_data"
    }
   ],
   "source": [
    "head(\n",
    "    players_clustered <- players %>%\n",
    "        mutate(cluster = cluster_assignments), \n",
    "    10)"
   ]
  },
  {
   "cell_type": "markdown",
   "metadata": {},
   "source": [
    "`players_clustered` data frame contains the x & y positions of 12 players at the start of a 6v6 soccer game to which we have added clustering assignments based on the following parameters:\n",
    "\n",
    "- Distance: Euclidean\n",
    "- Number of Clusters (k): 2\n",
    "- Linkage Method: Complete"
   ]
  },
  {
   "cell_type": "markdown",
   "metadata": {},
   "source": [
    "### Exploring the clusters"
   ]
  },
  {
   "cell_type": "code",
   "execution_count": 19,
   "metadata": {},
   "outputs": [
    {
     "data": {
      "text/html": [
       "<table>\n",
       "<thead><tr><th scope=col>cluster</th><th scope=col>n</th></tr></thead>\n",
       "<tbody>\n",
       "\t<tr><td>1</td><td>6</td></tr>\n",
       "\t<tr><td>2</td><td>6</td></tr>\n",
       "</tbody>\n",
       "</table>\n"
      ],
      "text/latex": [
       "\\begin{tabular}{r|ll}\n",
       " cluster & n\\\\\n",
       "\\hline\n",
       "\t 1 & 6\\\\\n",
       "\t 2 & 6\\\\\n",
       "\\end{tabular}\n"
      ],
      "text/markdown": [
       "\n",
       "| cluster | n |\n",
       "|---|---|\n",
       "| 1 | 6 |\n",
       "| 2 | 6 |\n",
       "\n"
      ],
      "text/plain": [
       "  cluster n\n",
       "1 1       6\n",
       "2 2       6"
      ]
     },
     "metadata": {},
     "output_type": "display_data"
    }
   ],
   "source": [
    "# Count the cluster assignments\n",
    "count(players_clustered, cluster)"
   ]
  },
  {
   "cell_type": "markdown",
   "metadata": {},
   "source": [
    "### Visualizing K Clusters\n",
    "\n",
    "Because clustering analysis is always in part qualitative, it is incredibly important to have the necessary tools to explore the results of the clustering."
   ]
  },
  {
   "cell_type": "code",
   "execution_count": 20,
   "metadata": {},
   "outputs": [
    {
     "data": {
      "image/png": "[encoded data removed]",
      "text/plain": [
       "plot without title"
      ]
     },
     "metadata": {},
     "output_type": "display_data"
    }
   ],
   "source": [
    "players_clustered %>%\n",
    "    ggplot(aes(x=x, y=y, color=factor(cluster)))+\n",
    "    geom_point()"
   ]
  },
  {
   "cell_type": "markdown",
   "metadata": {},
   "source": [
    "## Visualizing the dendrogram\n",
    "\n",
    "### Plotting the dendrogram"
   ]
  },
  {
   "cell_type": "code",
   "execution_count": 21,
   "metadata": {},
   "outputs": [
    {
     "data": {
      "image/png": "[encoded data removed]",
      "text/plain": [
       "Plot with title \"Cluster Dendrogram\""
      ]
     },
     "metadata": {},
     "output_type": "display_data"
    }
   ],
   "source": [
    "plot(hc_players)"
   ]
  },
  {
   "cell_type": "code",
   "execution_count": 23,
   "metadata": {},
   "outputs": [
    {
     "data": {
      "image/png": "[encoded data removed]",
      "text/plain": [
       "Plot with title \"Average Linkage\""
      ]
     },
     "metadata": {},
     "output_type": "display_data"
    }
   ],
   "source": [
    "# Prepare the Distance Matrix\n",
    "dist_players <- dist(players)\n",
    "\n",
    "# Generate hclust for complete, single & average linkage methods\n",
    "hc_complete <- hclust(dist_players, method=\"complete\")\n",
    "hc_single <- hclust(dist_players, method=\"single\")\n",
    "hc_average <- hclust(dist_players, method=\"average\")\n",
    "\n",
    "# Plot & Label the 3 Dendrograms Side-by-Side\n",
    "# Hint: To see these Side-by-Side run the 4 lines together as one command\n",
    "par(mfrow = c(1,3))\n",
    "plot(hc_complete, main = 'Complete Linkage')\n",
    "plot(hc_single, main = 'Single Linkage')\n",
    "plot(hc_average, main = 'Average Linkage')"
   ]
  },
  {
   "cell_type": "markdown",
   "metadata": {},
   "source": [
    "### Height of the tree\n",
    "\n",
    "An advantage of working with a clustering method like hierarchical clustering is that you can describe the relationships between your observations based on both the distance metric and the linkage metric selected (the combination of which defines the height of the tree)."
   ]
  },
  {
   "cell_type": "markdown",
   "metadata": {},
   "source": [
    "## Cutting the tree\n",
    "\n",
    "\n",
    "### Coloring the dendrogram - height"
   ]
  },
  {
   "cell_type": "code",
   "execution_count": 26,
   "metadata": {},
   "outputs": [
    {
     "data": {
      "image/png": "[encoded data removed]",
      "text/plain": [
       "plot without title"
      ]
     },
     "metadata": {},
     "output_type": "display_data"
    }
   ],
   "source": [
    "dend_players = as.dendrogram(hc_players)\n",
    "dend_colored = color_branches(dend_players, h=15)\n",
    "plot(dend_colored)"
   ]
  },
  {
   "cell_type": "code",
   "execution_count": 27,
   "metadata": {},
   "outputs": [
    {
     "data": {
      "image/png": "[encoded data removed]",
      "text/plain": [
       "plot without title"
      ]
     },
     "metadata": {},
     "output_type": "display_data"
    }
   ],
   "source": [
    "dend_players = as.dendrogram(hc_players)\n",
    "dend_colored = color_branches(dend_players, h=10)\n",
    "plot(dend_colored)"
   ]
  },
  {
   "cell_type": "markdown",
   "metadata": {},
   "source": [
    "### Coloring the dendrogram - K"
   ]
  },
  {
   "cell_type": "code",
   "execution_count": 28,
   "metadata": {},
   "outputs": [
    {
     "data": {
      "image/png": "[encoded data removed]",
      "text/plain": [
       "plot without title"
      ]
     },
     "metadata": {},
     "output_type": "display_data"
    }
   ],
   "source": [
    "dend_players = as.dendrogram(hc_players)\n",
    "dend_colored = color_branches(dend_players, k=2)\n",
    "plot(dend_colored)"
   ]
  },
  {
   "cell_type": "markdown",
   "metadata": {},
   "source": [
    "### cutree() using height"
   ]
  },
  {
   "cell_type": "code",
   "execution_count": 29,
   "metadata": {},
   "outputs": [
    {
     "data": {
      "text/html": [
       "<ol class=list-inline>\n",
       "\t<li>1</li>\n",
       "\t<li>1</li>\n",
       "\t<li>2</li>\n",
       "\t<li>3</li>\n",
       "\t<li>4</li>\n",
       "\t<li>4</li>\n",
       "\t<li>5</li>\n",
       "\t<li>2</li>\n",
       "\t<li>6</li>\n",
       "\t<li>3</li>\n",
       "\t<li>4</li>\n",
       "\t<li>6</li>\n",
       "</ol>\n"
      ],
      "text/latex": [
       "\\begin{enumerate*}\n",
       "\\item 1\n",
       "\\item 1\n",
       "\\item 2\n",
       "\\item 3\n",
       "\\item 4\n",
       "\\item 4\n",
       "\\item 5\n",
       "\\item 2\n",
       "\\item 6\n",
       "\\item 3\n",
       "\\item 4\n",
       "\\item 6\n",
       "\\end{enumerate*}\n"
      ],
      "text/markdown": [
       "1. 1\n",
       "2. 1\n",
       "3. 2\n",
       "4. 3\n",
       "5. 4\n",
       "6. 4\n",
       "7. 5\n",
       "8. 2\n",
       "9. 6\n",
       "10. 3\n",
       "11. 4\n",
       "12. 6\n",
       "\n",
       "\n"
      ],
      "text/plain": [
       " [1] 1 1 2 3 4 4 5 2 6 3 4 6"
      ]
     },
     "metadata": {},
     "output_type": "display_data"
    }
   ],
   "source": [
    "cluster_assignments <- cutree(hc_players, h=15)\n",
    "cluster_assignments"
   ]
  },
  {
   "cell_type": "code",
   "execution_count": 30,
   "metadata": {},
   "outputs": [
    {
     "data": {
      "text/html": [
       "<table>\n",
       "<thead><tr><th scope=col>x</th><th scope=col>y</th><th scope=col>cluster</th></tr></thead>\n",
       "<tbody>\n",
       "\t<tr><td> -1</td><td>  1</td><td>1  </td></tr>\n",
       "\t<tr><td> -2</td><td> -3</td><td>1  </td></tr>\n",
       "\t<tr><td>  8</td><td>  6</td><td>2  </td></tr>\n",
       "\t<tr><td>  7</td><td> -8</td><td>3  </td></tr>\n",
       "\t<tr><td>-12</td><td>  8</td><td>4  </td></tr>\n",
       "\t<tr><td>-15</td><td>  0</td><td>4  </td></tr>\n",
       "\t<tr><td>-13</td><td>-10</td><td>5  </td></tr>\n",
       "\t<tr><td> 15</td><td> 16</td><td>2  </td></tr>\n",
       "\t<tr><td> 21</td><td>  2</td><td>6  </td></tr>\n",
       "\t<tr><td> 12</td><td>-15</td><td>3  </td></tr>\n",
       "</tbody>\n",
       "</table>\n"
      ],
      "text/latex": [
       "\\begin{tabular}{r|lll}\n",
       " x & y & cluster\\\\\n",
       "\\hline\n",
       "\t  -1 &   1 & 1  \\\\\n",
       "\t  -2 &  -3 & 1  \\\\\n",
       "\t   8 &   6 & 2  \\\\\n",
       "\t   7 &  -8 & 3  \\\\\n",
       "\t -12 &   8 & 4  \\\\\n",
       "\t -15 &   0 & 4  \\\\\n",
       "\t -13 & -10 & 5  \\\\\n",
       "\t  15 &  16 & 2  \\\\\n",
       "\t  21 &   2 & 6  \\\\\n",
       "\t  12 & -15 & 3  \\\\\n",
       "\\end{tabular}\n"
      ],
      "text/markdown": [
       "\n",
       "| x | y | cluster |\n",
       "|---|---|---|\n",
       "|  -1 |   1 | 1   |\n",
       "|  -2 |  -3 | 1   |\n",
       "|   8 |   6 | 2   |\n",
       "|   7 |  -8 | 3   |\n",
       "| -12 |   8 | 4   |\n",
       "| -15 |   0 | 4   |\n",
       "| -13 | -10 | 5   |\n",
       "|  15 |  16 | 2   |\n",
       "|  21 |   2 | 6   |\n",
       "|  12 | -15 | 3   |\n",
       "\n"
      ],
      "text/plain": [
       "   x   y   cluster\n",
       "1   -1   1 1      \n",
       "2   -2  -3 1      \n",
       "3    8   6 2      \n",
       "4    7  -8 3      \n",
       "5  -12   8 4      \n",
       "6  -15   0 4      \n",
       "7  -13 -10 5      \n",
       "8   15  16 2      \n",
       "9   21   2 6      \n",
       "10  12 -15 3      "
      ]
     },
     "metadata": {},
     "output_type": "display_data"
    }
   ],
   "source": [
    "head(\n",
    "    players_clustered <- \n",
    "    players %>%\n",
    "        mutate(cluster = cluster_assignments),\n",
    "    10)"
   ]
  },
  {
   "cell_type": "code",
   "execution_count": 32,
   "metadata": {},
   "outputs": [
    {
     "data": {
      "image/png": "[encoded data removed]",
      "text/plain": [
       "plot without title"
      ]
     },
     "metadata": {},
     "output_type": "display_data"
    }
   ],
   "source": [
    "dist_players <- dist(players, method = 'euclidean')\n",
    "hc_players <- hclust(dist_players, method = \"complete\")\n",
    "\n",
    "# Create a dendrogram object from the hclust variable\n",
    "dend_players <- as.dendrogram(hc_players)\n",
    "\n",
    "# Plot the dendrogram\n",
    "plot(dend_players)"
   ]
  },
  {
   "cell_type": "code",
   "execution_count": 33,
   "metadata": {},
   "outputs": [
    {
     "data": {
      "image/png": "[encoded data removed]",
      "text/plain": [
       "plot without title"
      ]
     },
     "metadata": {},
     "output_type": "display_data"
    }
   ],
   "source": [
    "# Color branches by cluster formed from the cut at a height of 20 & plot\n",
    "dend_20 <- color_branches(dend_players, h = 20)\n",
    "\n",
    "# Plot the dendrogram with clusters colored below height 20\n",
    "plot(dend_20)\n",
    "\n"
   ]
  },
  {
   "cell_type": "code",
   "execution_count": 34,
   "metadata": {},
   "outputs": [
    {
     "data": {
      "image/png": "[encoded data removed]",
      "text/plain": [
       "plot without title"
      ]
     },
     "metadata": {},
     "output_type": "display_data"
    }
   ],
   "source": [
    "# Color branches by cluster formed from the cut at a height of 40 & plot\n",
    "dend_40 <- color_branches(dend_players, h=40)\n",
    "\n",
    "# Plot the dendrogram with clusters colored below height 40\n",
    "plot(dend_40)\n"
   ]
  },
  {
   "cell_type": "markdown",
   "metadata": {},
   "source": [
    "The height of any branch is determined by the linkage and distance decisions (in this case complete linkage and Euclidean distance). While the members of the clusters that form below a desired height have a maximum linkage+distance amongst themselves that is less than the desired height."
   ]
  },
  {
   "cell_type": "markdown",
   "metadata": {},
   "source": [
    "## Making sense of the clusters\n",
    "\n",
    "### Wholesale dataset\n",
    "- 45 observations\n",
    "- 3 features:\n",
    "  - Milk Spending\n",
    "  - Grocery Spending\n",
    "  - Frozen Food Spending\n"
   ]
  },
  {
   "cell_type": "code",
   "execution_count": 35,
   "metadata": {},
   "outputs": [
    {
     "data": {
      "text/html": [
       "<table>\n",
       "<thead><tr><th scope=col>Milk</th><th scope=col>Grocery</th><th scope=col>Frozen</th></tr></thead>\n",
       "<tbody>\n",
       "\t<tr><td>11103</td><td>12469</td><td> 902 </td></tr>\n",
       "\t<tr><td> 2013</td><td> 6550</td><td> 909 </td></tr>\n",
       "\t<tr><td> 1897</td><td> 5234</td><td> 417 </td></tr>\n",
       "\t<tr><td> 1304</td><td> 3643</td><td>3045 </td></tr>\n",
       "\t<tr><td> 3199</td><td> 6986</td><td>1455 </td></tr>\n",
       "\t<tr><td> 4560</td><td> 9965</td><td> 934 </td></tr>\n",
       "\t<tr><td>  879</td><td> 2060</td><td> 264 </td></tr>\n",
       "\t<tr><td> 6243</td><td> 6360</td><td> 824 </td></tr>\n",
       "\t<tr><td>13316</td><td>20399</td><td>1809 </td></tr>\n",
       "\t<tr><td> 5302</td><td> 9785</td><td> 364 </td></tr>\n",
       "</tbody>\n",
       "</table>\n"
      ],
      "text/latex": [
       "\\begin{tabular}{r|lll}\n",
       " Milk & Grocery & Frozen\\\\\n",
       "\\hline\n",
       "\t 11103 & 12469 &  902 \\\\\n",
       "\t  2013 &  6550 &  909 \\\\\n",
       "\t  1897 &  5234 &  417 \\\\\n",
       "\t  1304 &  3643 & 3045 \\\\\n",
       "\t  3199 &  6986 & 1455 \\\\\n",
       "\t  4560 &  9965 &  934 \\\\\n",
       "\t   879 &  2060 &  264 \\\\\n",
       "\t  6243 &  6360 &  824 \\\\\n",
       "\t 13316 & 20399 & 1809 \\\\\n",
       "\t  5302 &  9785 &  364 \\\\\n",
       "\\end{tabular}\n"
      ],
      "text/markdown": [
       "\n",
       "| Milk | Grocery | Frozen |\n",
       "|---|---|---|\n",
       "| 11103 | 12469 |  902  |\n",
       "|  2013 |  6550 |  909  |\n",
       "|  1897 |  5234 |  417  |\n",
       "|  1304 |  3643 | 3045  |\n",
       "|  3199 |  6986 | 1455  |\n",
       "|  4560 |  9965 |  934  |\n",
       "|   879 |  2060 |  264  |\n",
       "|  6243 |  6360 |  824  |\n",
       "| 13316 | 20399 | 1809  |\n",
       "|  5302 |  9785 |  364  |\n",
       "\n"
      ],
      "text/plain": [
       "   Milk  Grocery Frozen\n",
       "1  11103 12469    902  \n",
       "2   2013  6550    909  \n",
       "3   1897  5234    417  \n",
       "4   1304  3643   3045  \n",
       "5   3199  6986   1455  \n",
       "6   4560  9965    934  \n",
       "7    879  2060    264  \n",
       "8   6243  6360    824  \n",
       "9  13316 20399   1809  \n",
       "10  5302  9785    364  "
      ]
     },
     "metadata": {},
     "output_type": "display_data"
    }
   ],
   "source": [
    "head(\n",
    "    ws_customers <- readRDS(gzcon(url(\"https://assets.datacamp.com/production/repositories/1219/datasets/3558d2b5564714d85120cb77a904a2859bb3d03e/ws_customers.rds\"))) , \n",
    "    10\n",
    ")"
   ]
  },
  {
   "cell_type": "markdown",
   "metadata": {},
   "source": [
    "### Exploring more than 2 dimensions\n",
    "- Plot 2 dimensions at a time\n",
    "- Visualize using PCA\n",
    "- Summary statistics by feature\n"
   ]
  },
  {
   "cell_type": "markdown",
   "metadata": {},
   "source": [
    "### Segment wholesale customers"
   ]
  },
  {
   "cell_type": "code",
   "execution_count": 36,
   "metadata": {},
   "outputs": [
    {
     "data": {
      "image/png": "[encoded data removed]",
      "text/plain": [
       "Plot with title \"Cluster Dendrogram\""
      ]
     },
     "metadata": {},
     "output_type": "display_data"
    }
   ],
   "source": [
    "# Calculate Euclidean distance between customers\n",
    "dist_customers <- dist(ws_customers, method=\"euclidean\")\n",
    "\n",
    "# Generate a complete linkage analysis \n",
    "hc_customers <- hclust(dist_customers, method=\"complete\")\n",
    "\n",
    "# Plot the dendrogram\n",
    "plot(hc_customers)\n",
    "\n"
   ]
  },
  {
   "cell_type": "code",
   "execution_count": 38,
   "metadata": {},
   "outputs": [
    {
     "data": {
      "text/html": [
       "<table>\n",
       "<thead><tr><th scope=col>Milk</th><th scope=col>Grocery</th><th scope=col>Frozen</th><th scope=col>cluster</th></tr></thead>\n",
       "<tbody>\n",
       "\t<tr><td>11103</td><td>12469</td><td> 902 </td><td>1    </td></tr>\n",
       "\t<tr><td> 2013</td><td> 6550</td><td> 909 </td><td>2    </td></tr>\n",
       "\t<tr><td> 1897</td><td> 5234</td><td> 417 </td><td>2    </td></tr>\n",
       "\t<tr><td> 1304</td><td> 3643</td><td>3045 </td><td>2    </td></tr>\n",
       "\t<tr><td> 3199</td><td> 6986</td><td>1455 </td><td>2    </td></tr>\n",
       "\t<tr><td> 4560</td><td> 9965</td><td> 934 </td><td>2    </td></tr>\n",
       "\t<tr><td>  879</td><td> 2060</td><td> 264 </td><td>2    </td></tr>\n",
       "\t<tr><td> 6243</td><td> 6360</td><td> 824 </td><td>2    </td></tr>\n",
       "\t<tr><td>13316</td><td>20399</td><td>1809 </td><td>3    </td></tr>\n",
       "\t<tr><td> 5302</td><td> 9785</td><td> 364 </td><td>2    </td></tr>\n",
       "</tbody>\n",
       "</table>\n"
      ],
      "text/latex": [
       "\\begin{tabular}{r|llll}\n",
       " Milk & Grocery & Frozen & cluster\\\\\n",
       "\\hline\n",
       "\t 11103 & 12469 &  902  & 1    \\\\\n",
       "\t  2013 &  6550 &  909  & 2    \\\\\n",
       "\t  1897 &  5234 &  417  & 2    \\\\\n",
       "\t  1304 &  3643 & 3045  & 2    \\\\\n",
       "\t  3199 &  6986 & 1455  & 2    \\\\\n",
       "\t  4560 &  9965 &  934  & 2    \\\\\n",
       "\t   879 &  2060 &  264  & 2    \\\\\n",
       "\t  6243 &  6360 &  824  & 2    \\\\\n",
       "\t 13316 & 20399 & 1809  & 3    \\\\\n",
       "\t  5302 &  9785 &  364  & 2    \\\\\n",
       "\\end{tabular}\n"
      ],
      "text/markdown": [
       "\n",
       "| Milk | Grocery | Frozen | cluster |\n",
       "|---|---|---|---|\n",
       "| 11103 | 12469 |  902  | 1     |\n",
       "|  2013 |  6550 |  909  | 2     |\n",
       "|  1897 |  5234 |  417  | 2     |\n",
       "|  1304 |  3643 | 3045  | 2     |\n",
       "|  3199 |  6986 | 1455  | 2     |\n",
       "|  4560 |  9965 |  934  | 2     |\n",
       "|   879 |  2060 |  264  | 2     |\n",
       "|  6243 |  6360 |  824  | 2     |\n",
       "| 13316 | 20399 | 1809  | 3     |\n",
       "|  5302 |  9785 |  364  | 2     |\n",
       "\n"
      ],
      "text/plain": [
       "   Milk  Grocery Frozen cluster\n",
       "1  11103 12469    902   1      \n",
       "2   2013  6550    909   2      \n",
       "3   1897  5234    417   2      \n",
       "4   1304  3643   3045   2      \n",
       "5   3199  6986   1455   2      \n",
       "6   4560  9965    934   2      \n",
       "7    879  2060    264   2      \n",
       "8   6243  6360    824   2      \n",
       "9  13316 20399   1809   3      \n",
       "10  5302  9785    364   2      "
      ]
     },
     "metadata": {},
     "output_type": "display_data"
    }
   ],
   "source": [
    "# Create a cluster assignment vector at h = 15000\n",
    "clust_customers <- cutree(hc_customers, h=15000)\n",
    "\n",
    "# Generate the segmented customers data frame\n",
    "head(\n",
    "    segment_customers <- mutate(ws_customers, cluster = clust_customers), \n",
    "    10\n",
    ")"
   ]
  },
  {
   "cell_type": "markdown",
   "metadata": {},
   "source": [
    "### Explore wholesale customer clusters\n",
    "\n",
    "Since we are working with more than 2 dimensions it would be challenging to visualize a scatter plot of the clusters, instead we will rely on summary statistics to explore these clusters. We will analyze the mean amount spent in each cluster for all three categories."
   ]
  },
  {
   "cell_type": "code",
   "execution_count": 39,
   "metadata": {},
   "outputs": [
    {
     "data": {
      "text/html": [
       "<table>\n",
       "<thead><tr><th scope=col>cluster</th><th scope=col>n</th></tr></thead>\n",
       "<tbody>\n",
       "\t<tr><td>1 </td><td> 5</td></tr>\n",
       "\t<tr><td>2 </td><td>29</td></tr>\n",
       "\t<tr><td>3 </td><td> 5</td></tr>\n",
       "\t<tr><td>4 </td><td> 6</td></tr>\n",
       "</tbody>\n",
       "</table>\n"
      ],
      "text/latex": [
       "\\begin{tabular}{r|ll}\n",
       " cluster & n\\\\\n",
       "\\hline\n",
       "\t 1  &  5\\\\\n",
       "\t 2  & 29\\\\\n",
       "\t 3  &  5\\\\\n",
       "\t 4  &  6\\\\\n",
       "\\end{tabular}\n"
      ],
      "text/markdown": [
       "\n",
       "| cluster | n |\n",
       "|---|---|\n",
       "| 1  |  5 |\n",
       "| 2  | 29 |\n",
       "| 3  |  5 |\n",
       "| 4  |  6 |\n",
       "\n"
      ],
      "text/plain": [
       "  cluster n \n",
       "1 1        5\n",
       "2 2       29\n",
       "3 3        5\n",
       "4 4        6"
      ]
     },
     "metadata": {},
     "output_type": "display_data"
    }
   ],
   "source": [
    "# Count the number of customers that fall into each cluster\n",
    "count(segment_customers, cluster)\n",
    "\n"
   ]
  },
  {
   "cell_type": "code",
   "execution_count": 40,
   "metadata": {},
   "outputs": [
    {
     "data": {
      "image/png": "[encoded data removed]",
      "text/plain": [
       "plot without title"
      ]
     },
     "metadata": {},
     "output_type": "display_data"
    }
   ],
   "source": [
    "# Color the dendrogram based on the height cutoff\n",
    "dend_customers <- as.dendrogram(hc_customers)\n",
    "dend_colored <- color_branches(dend_customers, h=15000)\n",
    "\n",
    "# Plot the colored dendrogram\n",
    "plot(dend_colored)\n",
    "\n"
   ]
  },
  {
   "cell_type": "code",
   "execution_count": 41,
   "metadata": {},
   "outputs": [
    {
     "data": {
      "text/html": [
       "<table>\n",
       "<thead><tr><th scope=col>cluster</th><th scope=col>Milk</th><th scope=col>Grocery</th><th scope=col>Frozen</th></tr></thead>\n",
       "<tbody>\n",
       "\t<tr><td>1        </td><td>16950.000</td><td>12891.400</td><td>  991.200</td></tr>\n",
       "\t<tr><td>2        </td><td> 2512.828</td><td> 5228.931</td><td> 1795.517</td></tr>\n",
       "\t<tr><td>3        </td><td>10452.200</td><td>22550.600</td><td> 1354.800</td></tr>\n",
       "\t<tr><td>4        </td><td> 1249.500</td><td> 3916.833</td><td>10888.667</td></tr>\n",
       "</tbody>\n",
       "</table>\n"
      ],
      "text/latex": [
       "\\begin{tabular}{r|llll}\n",
       " cluster & Milk & Grocery & Frozen\\\\\n",
       "\\hline\n",
       "\t 1         & 16950.000 & 12891.400 &   991.200\\\\\n",
       "\t 2         &  2512.828 &  5228.931 &  1795.517\\\\\n",
       "\t 3         & 10452.200 & 22550.600 &  1354.800\\\\\n",
       "\t 4         &  1249.500 &  3916.833 & 10888.667\\\\\n",
       "\\end{tabular}\n"
      ],
      "text/markdown": [
       "\n",
       "| cluster | Milk | Grocery | Frozen |\n",
       "|---|---|---|---|\n",
       "| 1         | 16950.000 | 12891.400 |   991.200 |\n",
       "| 2         |  2512.828 |  5228.931 |  1795.517 |\n",
       "| 3         | 10452.200 | 22550.600 |  1354.800 |\n",
       "| 4         |  1249.500 |  3916.833 | 10888.667 |\n",
       "\n"
      ],
      "text/plain": [
       "  cluster Milk      Grocery   Frozen   \n",
       "1 1       16950.000 12891.400   991.200\n",
       "2 2        2512.828  5228.931  1795.517\n",
       "3 3       10452.200 22550.600  1354.800\n",
       "4 4        1249.500  3916.833 10888.667"
      ]
     },
     "metadata": {},
     "output_type": "display_data"
    }
   ],
   "source": [
    "# Calculate the mean for each category\n",
    "segment_customers %>% \n",
    "  group_by(cluster) %>% \n",
    "  summarise_all(list(mean))"
   ]
  },
  {
   "cell_type": "markdown",
   "metadata": {},
   "source": [
    "- Customers in cluster 1 spent more money on Milk than any other cluster.\n",
    "- Customers in cluster 3 spent more money on Grocery than any other cluster.\n",
    "- Customers in cluster 4 spent more money on Frozen goods than any other cluster.\n",
    "- The majority of customers fell into cluster 2 and did not show any excessive spending in any category.\n",
    "\n",
    "whether they are meaningful depends heavily on the business context of the clustering."
   ]
  },
  {
   "cell_type": "markdown",
   "metadata": {},
   "source": [
    "# K-means clustering\n",
    "\n",
    "Build an understanding of the principles behind the k-means algorithm, explore how to select the right k when it isn't previously known, and revisit the wholesale data from a different perspective."
   ]
  },
  {
   "cell_type": "markdown",
   "metadata": {},
   "source": [
    "### Introduction to K-means"
   ]
  },
  {
   "cell_type": "code",
   "execution_count": 42,
   "metadata": {},
   "outputs": [
    {
     "data": {
      "text/html": [
       "<table>\n",
       "<thead><tr><th scope=col>x</th><th scope=col>y</th></tr></thead>\n",
       "<tbody>\n",
       "\t<tr><td> -1</td><td>  1</td></tr>\n",
       "\t<tr><td> -2</td><td> -3</td></tr>\n",
       "\t<tr><td>  8</td><td>  6</td></tr>\n",
       "\t<tr><td>  7</td><td> -8</td></tr>\n",
       "\t<tr><td>-12</td><td>  8</td></tr>\n",
       "\t<tr><td>-15</td><td>  0</td></tr>\n",
       "\t<tr><td>-13</td><td>-10</td></tr>\n",
       "\t<tr><td> 15</td><td> 16</td></tr>\n",
       "\t<tr><td> 21</td><td>  2</td></tr>\n",
       "\t<tr><td> 12</td><td>-15</td></tr>\n",
       "</tbody>\n",
       "</table>\n"
      ],
      "text/latex": [
       "\\begin{tabular}{r|ll}\n",
       " x & y\\\\\n",
       "\\hline\n",
       "\t  -1 &   1\\\\\n",
       "\t  -2 &  -3\\\\\n",
       "\t   8 &   6\\\\\n",
       "\t   7 &  -8\\\\\n",
       "\t -12 &   8\\\\\n",
       "\t -15 &   0\\\\\n",
       "\t -13 & -10\\\\\n",
       "\t  15 &  16\\\\\n",
       "\t  21 &   2\\\\\n",
       "\t  12 & -15\\\\\n",
       "\\end{tabular}\n"
      ],
      "text/markdown": [
       "\n",
       "| x | y |\n",
       "|---|---|\n",
       "|  -1 |   1 |\n",
       "|  -2 |  -3 |\n",
       "|   8 |   6 |\n",
       "|   7 |  -8 |\n",
       "| -12 |   8 |\n",
       "| -15 |   0 |\n",
       "| -13 | -10 |\n",
       "|  15 |  16 |\n",
       "|  21 |   2 |\n",
       "|  12 | -15 |\n",
       "\n"
      ],
      "text/plain": [
       "   x   y  \n",
       "1   -1   1\n",
       "2   -2  -3\n",
       "3    8   6\n",
       "4    7  -8\n",
       "5  -12   8\n",
       "6  -15   0\n",
       "7  -13 -10\n",
       "8   15  16\n",
       "9   21   2\n",
       "10  12 -15"
      ]
     },
     "metadata": {},
     "output_type": "display_data"
    }
   ],
   "source": [
    "head(\n",
    "    lineup <- readRDS(gzcon(url(\"https://assets.datacamp.com/production/repositories/1219/datasets/94af7037c5834527cc8799a9723ebf3b5af73015/lineup.rds\"))) ,\n",
    "    10\n",
    ")"
   ]
  },
  {
   "cell_type": "markdown",
   "metadata": {},
   "source": [
    "### kmeans()"
   ]
  },
  {
   "cell_type": "code",
   "execution_count": 43,
   "metadata": {},
   "outputs": [],
   "source": [
    "model = kmeans(lineup, centers = 2)"
   ]
  },
  {
   "cell_type": "markdown",
   "metadata": {},
   "source": [
    "### Assigning clusters"
   ]
  },
  {
   "cell_type": "code",
   "execution_count": 46,
   "metadata": {},
   "outputs": [
    {
     "data": {
      "text/html": [
       "<dl>\n",
       "\t<dt>$cluster</dt>\n",
       "\t\t<dd><ol class=list-inline>\n",
       "\t<li>1</li>\n",
       "\t<li>1</li>\n",
       "\t<li>2</li>\n",
       "\t<li>2</li>\n",
       "\t<li>1</li>\n",
       "\t<li>1</li>\n",
       "\t<li>1</li>\n",
       "\t<li>2</li>\n",
       "\t<li>2</li>\n",
       "\t<li>2</li>\n",
       "\t<li>1</li>\n",
       "\t<li>2</li>\n",
       "</ol>\n",
       "</dd>\n",
       "\t<dt>$centers</dt>\n",
       "\t\t<dd><table>\n",
       "<thead><tr><th scope=col>x</th><th scope=col>y</th></tr></thead>\n",
       "<tbody>\n",
       "\t<tr><td>-11.33333 </td><td>-0.5000000</td></tr>\n",
       "\t<tr><td> 14.83333 </td><td> 0.1666667</td></tr>\n",
       "</tbody>\n",
       "</table>\n",
       "</dd>\n",
       "\t<dt>$totss</dt>\n",
       "\t\t<dd>3489.91666666667</dd>\n",
       "\t<dt>$withinss</dt>\n",
       "\t\t<dd><ol class=list-inline>\n",
       "\t<li>570.833333333333</li>\n",
       "\t<li>863.666666666667</li>\n",
       "</ol>\n",
       "</dd>\n",
       "\t<dt>$tot.withinss</dt>\n",
       "\t\t<dd>1434.5</dd>\n",
       "\t<dt>$betweenss</dt>\n",
       "\t\t<dd>2055.41666666667</dd>\n",
       "</dl>\n"
      ],
      "text/latex": [
       "\\begin{description}\n",
       "\\item[\\$cluster] \\begin{enumerate*}\n",
       "\\item 1\n",
       "\\item 1\n",
       "\\item 2\n",
       "\\item 2\n",
       "\\item 1\n",
       "\\item 1\n",
       "\\item 1\n",
       "\\item 2\n",
       "\\item 2\n",
       "\\item 2\n",
       "\\item 1\n",
       "\\item 2\n",
       "\\end{enumerate*}\n",
       "\n",
       "\\item[\\$centers] \\begin{tabular}{r|ll}\n",
       " x & y\\\\\n",
       "\\hline\n",
       "\t -11.33333  & -0.5000000\\\\\n",
       "\t  14.83333  &  0.1666667\\\\\n",
       "\\end{tabular}\n",
       "\n",
       "\\item[\\$totss] 3489.91666666667\n",
       "\\item[\\$withinss] \\begin{enumerate*}\n",
       "\\item 570.833333333333\n",
       "\\item 863.666666666667\n",
       "\\end{enumerate*}\n",
       "\n",
       "\\item[\\$tot.withinss] 1434.5\n",
       "\\item[\\$betweenss] 2055.41666666667\n",
       "\\end{description}\n"
      ],
      "text/markdown": [
       "$cluster\n",
       ":   1. 1\n",
       "2. 1\n",
       "3. 2\n",
       "4. 2\n",
       "5. 1\n",
       "6. 1\n",
       "7. 1\n",
       "8. 2\n",
       "9. 2\n",
       "10. 2\n",
       "11. 1\n",
       "12. 2\n",
       "\n",
       "\n",
       "\n",
       "$centers\n",
       ":   \n",
       "| x | y |\n",
       "|---|---|\n",
       "| -11.33333  | -0.5000000 |\n",
       "|  14.83333  |  0.1666667 |\n",
       "\n",
       "\n",
       "$totss\n",
       ":   3489.91666666667\n",
       "$withinss\n",
       ":   1. 570.833333333333\n",
       "2. 863.666666666667\n",
       "\n",
       "\n",
       "\n",
       "$tot.withinss\n",
       ":   1434.5\n",
       "$betweenss\n",
       ":   2055.41666666667\n",
       "\n",
       "\n"
      ],
      "text/plain": [
       "$cluster\n",
       " [1] 1 1 2 2 1 1 1 2 2 2 1 2\n",
       "\n",
       "$centers\n",
       "          x          y\n",
       "1 -11.33333 -0.5000000\n",
       "2  14.83333  0.1666667\n",
       "\n",
       "$totss\n",
       "[1] 3489.917\n",
       "\n",
       "$withinss\n",
       "[1] 570.8333 863.6667\n",
       "\n",
       "$tot.withinss\n",
       "[1] 1434.5\n",
       "\n",
       "$betweenss\n",
       "[1] 2055.417\n"
      ]
     },
     "metadata": {},
     "output_type": "display_data"
    }
   ],
   "source": [
    "head(model)"
   ]
  },
  {
   "cell_type": "code",
   "execution_count": 44,
   "metadata": {},
   "outputs": [
    {
     "data": {
      "text/html": [
       "<ol class=list-inline>\n",
       "\t<li>1</li>\n",
       "\t<li>1</li>\n",
       "\t<li>2</li>\n",
       "\t<li>2</li>\n",
       "\t<li>1</li>\n",
       "\t<li>1</li>\n",
       "\t<li>1</li>\n",
       "\t<li>2</li>\n",
       "\t<li>2</li>\n",
       "\t<li>2</li>\n",
       "\t<li>1</li>\n",
       "\t<li>2</li>\n",
       "</ol>\n"
      ],
      "text/latex": [
       "\\begin{enumerate*}\n",
       "\\item 1\n",
       "\\item 1\n",
       "\\item 2\n",
       "\\item 2\n",
       "\\item 1\n",
       "\\item 1\n",
       "\\item 1\n",
       "\\item 2\n",
       "\\item 2\n",
       "\\item 2\n",
       "\\item 1\n",
       "\\item 2\n",
       "\\end{enumerate*}\n"
      ],
      "text/markdown": [
       "1. 1\n",
       "2. 1\n",
       "3. 2\n",
       "4. 2\n",
       "5. 1\n",
       "6. 1\n",
       "7. 1\n",
       "8. 2\n",
       "9. 2\n",
       "10. 2\n",
       "11. 1\n",
       "12. 2\n",
       "\n",
       "\n"
      ],
      "text/plain": [
       " [1] 1 1 2 2 1 1 1 2 2 2 1 2"
      ]
     },
     "metadata": {},
     "output_type": "display_data"
    }
   ],
   "source": [
    "model$cluster"
   ]
  },
  {
   "cell_type": "code",
   "execution_count": 45,
   "metadata": {},
   "outputs": [
    {
     "data": {
      "text/html": [
       "<table>\n",
       "<thead><tr><th scope=col>x</th><th scope=col>y</th><th scope=col>cluster</th></tr></thead>\n",
       "<tbody>\n",
       "\t<tr><td> -1</td><td>  1</td><td>1  </td></tr>\n",
       "\t<tr><td> -2</td><td> -3</td><td>1  </td></tr>\n",
       "\t<tr><td>  8</td><td>  6</td><td>2  </td></tr>\n",
       "\t<tr><td>  7</td><td> -8</td><td>2  </td></tr>\n",
       "\t<tr><td>-12</td><td>  8</td><td>1  </td></tr>\n",
       "\t<tr><td>-15</td><td>  0</td><td>1  </td></tr>\n",
       "\t<tr><td>-13</td><td>-10</td><td>1  </td></tr>\n",
       "\t<tr><td> 15</td><td> 16</td><td>2  </td></tr>\n",
       "\t<tr><td> 21</td><td>  2</td><td>2  </td></tr>\n",
       "\t<tr><td> 12</td><td>-15</td><td>2  </td></tr>\n",
       "</tbody>\n",
       "</table>\n"
      ],
      "text/latex": [
       "\\begin{tabular}{r|lll}\n",
       " x & y & cluster\\\\\n",
       "\\hline\n",
       "\t  -1 &   1 & 1  \\\\\n",
       "\t  -2 &  -3 & 1  \\\\\n",
       "\t   8 &   6 & 2  \\\\\n",
       "\t   7 &  -8 & 2  \\\\\n",
       "\t -12 &   8 & 1  \\\\\n",
       "\t -15 &   0 & 1  \\\\\n",
       "\t -13 & -10 & 1  \\\\\n",
       "\t  15 &  16 & 2  \\\\\n",
       "\t  21 &   2 & 2  \\\\\n",
       "\t  12 & -15 & 2  \\\\\n",
       "\\end{tabular}\n"
      ],
      "text/markdown": [
       "\n",
       "| x | y | cluster |\n",
       "|---|---|---|\n",
       "|  -1 |   1 | 1   |\n",
       "|  -2 |  -3 | 1   |\n",
       "|   8 |   6 | 2   |\n",
       "|   7 |  -8 | 2   |\n",
       "| -12 |   8 | 1   |\n",
       "| -15 |   0 | 1   |\n",
       "| -13 | -10 | 1   |\n",
       "|  15 |  16 | 2   |\n",
       "|  21 |   2 | 2   |\n",
       "|  12 | -15 | 2   |\n",
       "\n"
      ],
      "text/plain": [
       "   x   y   cluster\n",
       "1   -1   1 1      \n",
       "2   -2  -3 1      \n",
       "3    8   6 2      \n",
       "4    7  -8 2      \n",
       "5  -12   8 1      \n",
       "6  -15   0 1      \n",
       "7  -13 -10 1      \n",
       "8   15  16 2      \n",
       "9   21   2 2      \n",
       "10  12 -15 2      "
      ]
     },
     "metadata": {},
     "output_type": "display_data"
    }
   ],
   "source": [
    "head(\n",
    "    lineup_clustered <- lineup %>%\n",
    "        mutate(cluster=model$cluster), \n",
    "    10\n",
    ")"
   ]
  },
  {
   "cell_type": "markdown",
   "metadata": {},
   "source": [
    "### K-means on a soccer field"
   ]
  },
  {
   "cell_type": "code",
   "execution_count": 47,
   "metadata": {},
   "outputs": [
    {
     "data": {
      "image/png": "[encoded data removed]",
      "text/plain": [
       "plot without title"
      ]
     },
     "metadata": {},
     "output_type": "display_data"
    }
   ],
   "source": [
    "# Build a kmeans model\n",
    "model_km2 <- kmeans(lineup, centers = 2)\n",
    "\n",
    "# Extract the cluster assignment vector from the kmeans model\n",
    "clust_km2 <- model_km2$cluster\n",
    "\n",
    "# Create a new data frame appending the cluster assignment\n",
    "lineup_km2 <- mutate(lineup, cluster = clust_km2)\n",
    "\n",
    "# Plot the positions of the players and color them using their cluster\n",
    "ggplot(lineup_km2, aes(x = x, y = y, color = factor(cluster))) +\n",
    "  geom_point()"
   ]
  },
  {
   "cell_type": "markdown",
   "metadata": {},
   "source": [
    "### K-means on a soccer field (part 2)"
   ]
  },
  {
   "cell_type": "code",
   "execution_count": 48,
   "metadata": {},
   "outputs": [
    {
     "data": {
      "image/png": "[encoded data removed]",
      "text/plain": [
       "plot without title"
      ]
     },
     "metadata": {},
     "output_type": "display_data"
    }
   ],
   "source": [
    "# Build a kmeans model\n",
    "model_km3 <- kmeans(lineup, centers=3)\n",
    "\n",
    "# Extract the cluster assignment vector from the kmeans model\n",
    "clust_km3 <- model_km3$cluster\n",
    "\n",
    "# Create a new data frame appending the cluster assignment\n",
    "lineup_km3 <- mutate(lineup, cluster=clust_km3)\n",
    "\n",
    "# Plot the positions of the players and color them using their cluster\n",
    "ggplot(lineup_km3, aes(x = x, y = y, color = factor(cluster))) +\n",
    "  geom_point()"
   ]
  },
  {
   "cell_type": "markdown",
   "metadata": {},
   "source": [
    "## Evaluating different values of K by eye\n",
    "\n",
    "### Generating the elbow plot"
   ]
  },
  {
   "cell_type": "code",
   "execution_count": 50,
   "metadata": {},
   "outputs": [
    {
     "data": {
      "text/html": [
       "<table>\n",
       "<thead><tr><th scope=col>k</th><th scope=col>tot_withinss</th></tr></thead>\n",
       "<tbody>\n",
       "\t<tr><td> 1       </td><td>3489.9167</td></tr>\n",
       "\t<tr><td> 2       </td><td>1434.5000</td></tr>\n",
       "\t<tr><td> 3       </td><td> 881.2500</td></tr>\n",
       "\t<tr><td> 4       </td><td> 637.2500</td></tr>\n",
       "\t<tr><td> 5       </td><td> 406.0000</td></tr>\n",
       "\t<tr><td> 6       </td><td> 291.1667</td></tr>\n",
       "\t<tr><td> 7       </td><td> 171.0000</td></tr>\n",
       "\t<tr><td> 8       </td><td> 134.0000</td></tr>\n",
       "\t<tr><td> 9       </td><td>  60.0000</td></tr>\n",
       "\t<tr><td>10       </td><td>  45.0000</td></tr>\n",
       "</tbody>\n",
       "</table>\n"
      ],
      "text/latex": [
       "\\begin{tabular}{r|ll}\n",
       " k & tot\\_withinss\\\\\n",
       "\\hline\n",
       "\t  1        & 3489.9167\\\\\n",
       "\t  2        & 1434.5000\\\\\n",
       "\t  3        &  881.2500\\\\\n",
       "\t  4        &  637.2500\\\\\n",
       "\t  5        &  406.0000\\\\\n",
       "\t  6        &  291.1667\\\\\n",
       "\t  7        &  171.0000\\\\\n",
       "\t  8        &  134.0000\\\\\n",
       "\t  9        &   60.0000\\\\\n",
       "\t 10        &   45.0000\\\\\n",
       "\\end{tabular}\n"
      ],
      "text/markdown": [
       "\n",
       "| k | tot_withinss |\n",
       "|---|---|\n",
       "|  1        | 3489.9167 |\n",
       "|  2        | 1434.5000 |\n",
       "|  3        |  881.2500 |\n",
       "|  4        |  637.2500 |\n",
       "|  5        |  406.0000 |\n",
       "|  6        |  291.1667 |\n",
       "|  7        |  171.0000 |\n",
       "|  8        |  134.0000 |\n",
       "|  9        |   60.0000 |\n",
       "| 10        |   45.0000 |\n",
       "\n"
      ],
      "text/plain": [
       "   k  tot_withinss\n",
       "1   1 3489.9167   \n",
       "2   2 1434.5000   \n",
       "3   3  881.2500   \n",
       "4   4  637.2500   \n",
       "5   5  406.0000   \n",
       "6   6  291.1667   \n",
       "7   7  171.0000   \n",
       "8   8  134.0000   \n",
       "9   9   60.0000   \n",
       "10 10   45.0000   "
      ]
     },
     "metadata": {},
     "output_type": "display_data"
    }
   ],
   "source": [
    "tot_withinss <- map_dbl(1:10, function(k){\n",
    "    model_l <- kmeans(lineup, centers = k)\n",
    "    model_l$tot.withinss\n",
    "})\n",
    "head(\n",
    "    elbow_df_l <- data.frame(\n",
    "    k=1:10,\n",
    "    tot_withinss = tot_withinss\n",
    "), 10)"
   ]
  },
  {
   "cell_type": "markdown",
   "metadata": {},
   "source": [
    "### Generating the elbow plot"
   ]
  },
  {
   "cell_type": "code",
   "execution_count": 51,
   "metadata": {},
   "outputs": [
    {
     "data": {
      "image/png": "[encoded data removed]",
      "text/plain": [
       "plot without title"
      ]
     },
     "metadata": {},
     "output_type": "display_data"
    }
   ],
   "source": [
    "elbow_df_l %>%\n",
    "    ggplot(aes(x=k, y=tot_withinss)) +\n",
    "    geom_line() +\n",
    "    scale_x_continuous(breaks = 1:10)"
   ]
  },
  {
   "cell_type": "code",
   "execution_count": null,
   "metadata": {},
   "outputs": [],
   "source": []
  },
  {
   "cell_type": "code",
   "execution_count": null,
   "metadata": {},
   "outputs": [],
   "source": []
  },
  {
   "cell_type": "code",
   "execution_count": null,
   "metadata": {},
   "outputs": [],
   "source": []
  },
  {
   "cell_type": "code",
   "execution_count": null,
   "metadata": {},
   "outputs": [],
   "source": []
  },
  {
   "cell_type": "code",
   "execution_count": null,
   "metadata": {},
   "outputs": [],
   "source": []
  },
  {
   "cell_type": "code",
   "execution_count": null,
   "metadata": {},
   "outputs": [],
   "source": []
  },
  {
   "cell_type": "code",
   "execution_count": null,
   "metadata": {},
   "outputs": [],
   "source": []
  },
  {
   "cell_type": "code",
   "execution_count": null,
   "metadata": {},
   "outputs": [],
   "source": []
  },
  {
   "cell_type": "code",
   "execution_count": null,
   "metadata": {},
   "outputs": [],
   "source": []
  },
  {
   "cell_type": "code",
   "execution_count": null,
   "metadata": {},
   "outputs": [],
   "source": []
  },
  {
   "cell_type": "code",
   "execution_count": null,
   "metadata": {},
   "outputs": [],
   "source": []
  },
  {
   "cell_type": "code",
   "execution_count": null,
   "metadata": {},
   "outputs": [],
   "source": []
  },
  {
   "cell_type": "code",
   "execution_count": null,
   "metadata": {},
   "outputs": [],
   "source": []
  },
  {
   "cell_type": "code",
   "execution_count": null,
   "metadata": {},
   "outputs": [],
   "source": []
  },
  {
   "cell_type": "code",
   "execution_count": null,
   "metadata": {},
   "outputs": [],
   "source": []
  },
  {
   "cell_type": "code",
   "execution_count": null,
   "metadata": {},
   "outputs": [],
   "source": []
  },
  {
   "cell_type": "code",
   "execution_count": null,
   "metadata": {},
   "outputs": [],
   "source": []
  },
  {
   "cell_type": "code",
   "execution_count": null,
   "metadata": {},
   "outputs": [],
   "source": []
  },
  {
   "cell_type": "code",
   "execution_count": null,
   "metadata": {},
   "outputs": [],
   "source": []
  },
  {
   "cell_type": "code",
   "execution_count": null,
   "metadata": {},
   "outputs": [],
   "source": []
  },
  {
   "cell_type": "code",
   "execution_count": null,
   "metadata": {},
   "outputs": [],
   "source": []
  },
  {
   "cell_type": "code",
   "execution_count": null,
   "metadata": {},
   "outputs": [],
   "source": []
  },
  {
   "cell_type": "code",
   "execution_count": null,
   "metadata": {},
   "outputs": [],
   "source": []
  },
  {
   "cell_type": "code",
   "execution_count": null,
   "metadata": {},
   "outputs": [],
   "source": []
  },
  {
   "cell_type": "code",
   "execution_count": null,
   "metadata": {},
   "outputs": [],
   "source": []
  },
  {
   "cell_type": "code",
   "execution_count": null,
   "metadata": {},
   "outputs": [],
   "source": []
  },
  {
   "cell_type": "code",
   "execution_count": null,
   "metadata": {},
   "outputs": [],
   "source": []
  },
  {
   "cell_type": "code",
   "execution_count": null,
   "metadata": {},
   "outputs": [],
   "source": []
  },
  {
   "cell_type": "code",
   "execution_count": null,
   "metadata": {},
   "outputs": [],
   "source": []
  },
  {
   "cell_type": "code",
   "execution_count": null,
   "metadata": {},
   "outputs": [],
   "source": []
  },
  {
   "cell_type": "code",
   "execution_count": null,
   "metadata": {},
   "outputs": [],
   "source": []
  },
  {
   "cell_type": "code",
   "execution_count": null,
   "metadata": {},
   "outputs": [],
   "source": []
  },
  {
   "cell_type": "code",
   "execution_count": null,
   "metadata": {},
   "outputs": [],
   "source": []
  },
  {
   "cell_type": "code",
   "execution_count": null,
   "metadata": {},
   "outputs": [],
   "source": []
  },
  {
   "cell_type": "code",
   "execution_count": null,
   "metadata": {},
   "outputs": [],
   "source": []
  },
  {
   "cell_type": "code",
   "execution_count": null,
   "metadata": {},
   "outputs": [],
   "source": []
  },
  {
   "cell_type": "code",
   "execution_count": null,
   "metadata": {},
   "outputs": [],
   "source": []
  }
 ],
 "metadata": {
  "kernelspec": {
   "display_name": "R",
   "language": "R",
   "name": "ir"
  },
  "language_info": {
   "codemirror_mode": "r",
   "file_extension": ".r",
   "mimetype": "text/x-r-source",
   "name": "R",
   "pygments_lexer": "r",
   "version": "3.6.1"
  }
 },
 "nbformat": 4,
 "nbformat_minor": 4
}
